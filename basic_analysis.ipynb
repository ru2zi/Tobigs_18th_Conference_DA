{
 "cells": [
  {
   "cell_type": "code",
   "execution_count": 1,
   "metadata": {},
   "outputs": [
    {
     "name": "stdout",
     "output_type": "stream",
     "text": [
      "                 Generalized Linear Model Regression Results                  \n",
      "==============================================================================\n",
      "Dep. Variable:              caslt_cnt   No. Observations:                 1200\n",
      "Model:                            GLM   Df Residuals:                     1186\n",
      "Model Family:                 Poisson   Df Model:                           13\n",
      "Link Function:                    Log   Scale:                          1.0000\n",
      "Method:                          IRLS   Log-Likelihood:                -2831.1\n",
      "Date:                Fri, 05 Jul 2024   Deviance:                       4960.9\n",
      "Time:                        23:00:34   Pearson chi2:                 1.40e+04\n",
      "No. Iterations:                     8   Pseudo R-squ. (CS):             0.6542\n",
      "Covariance Type:            nonrobust                                         \n",
      "====================================================================================\n",
      "                       coef    std err          z      P>|z|      [0.025      0.975]\n",
      "------------------------------------------------------------------------------------\n",
      "const               -1.5146      0.091    -16.631      0.000      -1.693      -1.336\n",
      "bus_station_cnt      0.1913      0.013     14.512      0.000       0.165       0.217\n",
      "traffic_cnt          0.0543      0.006      8.983      0.000       0.042       0.066\n",
      "pleasure_cnt         0.0099      0.002      5.875      0.000       0.007       0.013\n",
      "seoul_police_cnt    -0.1527      0.051     -2.995      0.003      -0.253      -0.053\n",
      "park_cnt            -0.4553      0.087     -5.252      0.000      -0.625      -0.285\n",
      "crossroad_cnt        0.0137      0.028      0.494      0.621      -0.041       0.068\n",
      "도로10이하_cnt           0.0779      0.011      6.920      0.000       0.056       0.100\n",
      "도로10_20_cnt          0.0183      0.115      0.159      0.874      -0.207       0.243\n",
      "도로20_30_cnt         -2.8380      0.575     -4.939      0.000      -3.964      -1.712\n",
      "도로30이상_cnt          -0.0397      0.113     -0.351      0.726      -0.261       0.182\n",
      "child_cnt            0.0507      0.014      3.680      0.000       0.024       0.078\n",
      "silver_cnt           0.3611      0.037      9.875      0.000       0.289       0.433\n",
      "crosswalk_cnt        0.0039      0.009      0.419      0.675      -0.014       0.022\n",
      "====================================================================================\n"
     ]
    }
   ],
   "source": [
    "import pandas as pd\n",
    "import statsmodels.api as sm\n",
    "\n",
    "data = pd.read_csv('C:/Users/inho0/Downloads/confer/data_set/final.csv')\n",
    "\n",
    "# 독립 변수와 종속 변수 설정\n",
    "X = data[['bus_station_cnt', 'traffic_cnt', 'pleasure_cnt', 'seoul_police_cnt', 'park_cnt', 'crossroad_cnt',\n",
    "          '도로10이하_cnt', '도로10_20_cnt', '도로20_30_cnt', '도로30이상_cnt', 'child_cnt', 'silver_cnt', 'crosswalk_cnt']]\n",
    "y = data['caslt_cnt']\n",
    "\n",
    "# 독립 변수에 상수항 추가\n",
    "X = sm.add_constant(X)\n",
    "\n",
    "# 포아송 회귀 모델 적용\n",
    "poisson_model = sm.GLM(y, X, family=sm.families.Poisson()).fit()\n",
    "\n",
    "# 모델 요약 출력\n",
    "print(poisson_model.summary())\n"
   ]
  },
  {
   "cell_type": "code",
   "execution_count": 4,
   "metadata": {},
   "outputs": [
    {
     "name": "stderr",
     "output_type": "stream",
     "text": [
      "c:\\Users\\inho0\\Downloads\\confer\\tobigs\\lib\\site-packages\\statsmodels\\genmod\\families\\family.py:1367: ValueWarning: Negative binomial dispersion parameter alpha not set. Using default value alpha=1.0.\n",
      "  warnings.warn(\"Negative binomial dispersion parameter alpha not \"\n"
     ]
    },
    {
     "name": "stdout",
     "output_type": "stream",
     "text": [
      "                 Generalized Linear Model Regression Results                  \n",
      "==============================================================================\n",
      "Dep. Variable:              caslt_cnt   No. Observations:                 1200\n",
      "Model:                            GLM   Df Residuals:                     1186\n",
      "Model Family:        NegativeBinomial   Df Model:                           13\n",
      "Link Function:                    Log   Scale:                          1.0000\n",
      "Method:                          IRLS   Log-Likelihood:                -1530.4\n",
      "Date:                Fri, 05 Jul 2024   Deviance:                       1954.9\n",
      "Time:                        20:53:40   Pearson chi2:                 6.42e+03\n",
      "No. Iterations:                    12   Pseudo R-squ. (CS):             0.4031\n",
      "Covariance Type:            nonrobust                                         \n",
      "====================================================================================\n",
      "                       coef    std err          z      P>|z|      [0.025      0.975]\n",
      "------------------------------------------------------------------------------------\n",
      "Intercept           -2.0501      0.146    -14.046      0.000      -2.336      -1.764\n",
      "bus_station_cnt      0.2353      0.024      9.789      0.000       0.188       0.282\n",
      "traffic_cnt          0.0795      0.011      7.352      0.000       0.058       0.101\n",
      "pleasure_cnt         0.0101      0.003      3.322      0.001       0.004       0.016\n",
      "seoul_police_cnt    -0.3438      0.087     -3.931      0.000      -0.515      -0.172\n",
      "park_cnt            -0.3578      0.130     -2.752      0.006      -0.613      -0.103\n",
      "crossroad_cnt        0.0003      0.052      0.005      0.996      -0.101       0.101\n",
      "도로10이하_cnt           0.1322      0.018      7.261      0.000       0.097       0.168\n",
      "도로10_20_cnt          0.1551      0.237      0.656      0.512      -0.309       0.619\n",
      "도로20_30_cnt         -2.9423      0.598     -4.920      0.000      -4.114      -1.770\n",
      "도로30이상_cnt          -0.1255      0.190     -0.659      0.510      -0.499       0.248\n",
      "child_cnt            0.0264      0.023      1.139      0.255      -0.019       0.072\n",
      "silver_cnt           0.5337      0.063      8.441      0.000       0.410       0.658\n",
      "crosswalk_cnt       -0.0038      0.018     -0.219      0.827      -0.038       0.031\n",
      "====================================================================================\n"
     ]
    }
   ],
   "source": [
    "import statsmodels.api as sm\n",
    "import statsmodels.formula.api as smf\n",
    "\n",
    "# 음이항 회귀 모델 적용\n",
    "negbin_model = smf.glm(formula='caslt_cnt ~ bus_station_cnt + traffic_cnt + pleasure_cnt + seoul_police_cnt + park_cnt + crossroad_cnt + 도로10이하_cnt + 도로10_20_cnt + 도로20_30_cnt + 도로30이상_cnt + child_cnt + silver_cnt + crosswalk_cnt', \n",
    "                       data=data, \n",
    "                       family=sm.families.NegativeBinomial()).fit()\n",
    "\n",
    "# 모델 요약 출력\n",
    "print(negbin_model.summary())\n"
   ]
  },
  {
   "cell_type": "code",
   "execution_count": null,
   "metadata": {},
   "outputs": [],
   "source": [
    "# 유의미한 변수:\n",
    "\n",
    "# bus_station_cnt: 버스 정류장 수는 두 모델 모두에서 매우 유의미하며, 사고 건수를 증가시키는 요인으로 작용\n",
    "# traffic_cnt: 신호등 수 역시 두 모델 모두에서 매우 유의미하며, 사고 건수를 증가시키는 요\n",
    "# pleasure_cnt: 유흥업소 수는 두 모델에서 모두 유의미하게 사고 건수를 증가시키는 요인\n",
    "# seoul_police_cnt: 경찰서 수는 두 모델에서 모두 유의미하게 사고 건수를 감소시키는 요인\n",
    "# park_cnt: 공원 수는 두 모델에서 모두 유의미하게 사고 건수를 감소시키는 요인\n",
    "# 도로10이하_cnt: 도로폭 10m 이하 도로 수는 두 모델에서 모두 유의미하게 사고 건수를 증가시키는 요인\n",
    "# 도로20_30_cnt: 도로폭 20-30m 도로 수는 두 모델에서 모두 유의미하게 사고 건수를 크게 감소시키는 요인\n",
    "# silver_cnt: 노인 보호 구역 수는 두 모델에서 모두 유의미하게 사고 건수를 증가시키는 요인\n",
    "\n",
    "# 유의미하지 않은 변수: crossroad_cnt, 도로10_20_cnt, 도로30이상_cnt, child_cnt, crosswalk_cnt 변수는 두 모델 모두에서 유의미하지 않음\n"
   ]
  }
 ],
 "metadata": {
  "kernelspec": {
   "display_name": "tobigs",
   "language": "python",
   "name": "python3"
  },
  "language_info": {
   "codemirror_mode": {
    "name": "ipython",
    "version": 3
   },
   "file_extension": ".py",
   "mimetype": "text/x-python",
   "name": "python",
   "nbconvert_exporter": "python",
   "pygments_lexer": "ipython3",
   "version": "3.9.13"
  }
 },
 "nbformat": 4,
 "nbformat_minor": 2
}
